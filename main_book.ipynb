{
 "cells": [
  {
   "cell_type": "markdown",
   "metadata": {},
   "source": [
    "### **data organization and initial analysis**"
   ]
  },
  {
   "cell_type": "code",
   "execution_count": 171,
   "metadata": {},
   "outputs": [],
   "source": [
    "import numpy as np\n",
    "import pandas as pd\n",
    "import statsmodels.api as sm \n",
    "import matplotlib.pyplot as plt\n",
    "from sklearn.metrics import r2_score\n",
    "from sklearn.linear_model import LinearRegression\n",
    "from sklearn.model_selection import train_test_split\n",
    "\n",
    "# importing data set\n",
    "df = pd.read_csv('Bitcoin Historical Data.csv')\n",
    "\n",
    "# fixing dataset so that it can be interpreted by the model\n",
    "df['Price'] = df['Price'].str.replace(',','')\n",
    "df['Open'] = df['Open'].str.replace(',','')\n",
    "df['High'] = df['High'].str.replace(',','')\n",
    "df['Low'] = df['Low'].str.replace(',','')\n",
    "df['Change %'] = df['Change %'].str.replace('%', '')\n",
    "\n",
    "df['Price'] = df['Price'].astype(float)\n",
    "df['Open'] = df['Open'].astype(float)\n",
    "df['High'] = df['High'].astype(float)\n",
    "df['Low'] = df['Low'].astype(float)\n",
    "df['Change %'] = df['Change %'].astype(float)\n",
    "\n",
    "df['Vol.'] = df['Vol.'].str.replace(',','')\n",
    "df['Vol.'] = df['Vol.'].str.replace('K','')\n",
    "df['Vol.'] = df['Vol.'].str.replace('M','')\n",
    "df['Vol.'] = df['Vol.'].str.replace('B','')\n",
    "df['Vol.'] = df['Vol.'].astype(float)\n",
    "df['Vol.'] = df['Vol.'] * 1000\n",
    "\n",
    "df['Change %'] = df['Change %'] / 100\n",
    "\n",
    "df['Fake_Index'] = np.array([i for i in range(0,len(df))])\n",
    "\n",
    "# logic to determine whether a user should have bought or sold on this given day, originally derived later in code\n",
    "buy_sell = []\n",
    "for i in range(len(df)):\n",
    "    if (df['Price'].iloc[i] > df['Open'].iloc[i]) and (abs(df['Price'].iloc[i] - df['Open'].iloc[i]) / df['Open'].iloc[i] > 0.016):\n",
    "        buy_sell.append('buy')\n",
    "    else:\n",
    "        buy_sell.append('sell')\n",
    "\n",
    "df['BuySell'] = np.array(buy_sell)"
   ]
  },
  {
   "cell_type": "markdown",
   "metadata": {},
   "source": [
    "### **modeling**"
   ]
  },
  {
   "cell_type": "code",
   "execution_count": 179,
   "metadata": {},
   "outputs": [
    {
     "name": "stdout",
     "output_type": "stream",
     "text": [
      "0.9993951587367179\n"
     ]
    }
   ],
   "source": [
    "X = df[['Fake_Index', 'Open', 'High', 'Low', 'Vol.', 'Change %']] # features (can be changed, r^2 doesn't change much though)\n",
    "y = df['Price'] # target\n",
    "\n",
    "X_train, X_test, y_train, y_test = train_test_split(X, y, random_state=100, test_size=0.50)\n",
    "\n",
    "model = LinearRegression() # linearity of dataset made it pretty easy to use a linear model to predict the prices just based on the opening and volume that day\n",
    "model.fit(X_train, y_train)\n",
    "\n",
    "y_pred = model.predict(X_test)\n",
    "print(r2_score(y_test, y_pred))"
   ]
  },
  {
   "cell_type": "code",
   "execution_count": 180,
   "metadata": {},
   "outputs": [],
   "source": [
    "y_pred = pd.Series(y_pred)\n",
    "y_test = pd.Series(y_test)\n",
    "\n",
    "train_data = pd.concat([X_train,y_train], axis=1)\n",
    "train_data.drop(columns='Fake_Index', inplace=True)\n",
    "\n",
    "orig_index = y_test.index.to_list()\n",
    "y_test.reset_index(drop=True, inplace=True)\n",
    "\n",
    "results = pd.concat([y_pred,y_test], axis=1, ignore_index=True)\n",
    "results['Index'] = orig_index\n",
    "results.set_index('Index', inplace=True)\n",
    "\n",
    "results_new = pd.concat([results,X_test], axis=1)\n",
    "results_new.rename(columns={0:'Predicted'}, inplace=True)\n",
    "results_new.rename(columns={1:'Actual'}, inplace=True)\n",
    "\n",
    "final = pd.merge(results_new, df['Date'], left_index=True, right_index=True, how='inner')\n",
    "final.drop(columns='Fake_Index', inplace=True)"
   ]
  },
  {
   "cell_type": "markdown",
   "metadata": {},
   "source": [
    "### **logic to determine whether to buy or sell**"
   ]
  },
  {
   "cell_type": "code",
   "execution_count": 181,
   "metadata": {},
   "outputs": [],
   "source": [
    "buy_sell_pred = []\n",
    "buy_sell_actual = []\n",
    "\n",
    "for i in range(len(final)):\n",
    "    if (final['Predicted'].iloc[i] > final['Open'].iloc[i]) and (abs(final['Predicted'].iloc[i] - final['Open'].iloc[i]) / final['Open'].iloc[i] > 0.016):\n",
    "        buy_sell_pred.append('buy')\n",
    "    else:\n",
    "        buy_sell_pred.append('sell')\n",
    "    \n",
    "    if final['Actual'].iloc[i] > final['Open'].iloc[i] and (abs(final['Predicted'].iloc[i] - final['Open'].iloc[i]) / final['Open'].iloc[i] > 0.016):\n",
    "        buy_sell_actual.append('buy')\n",
    "    else:\n",
    "        buy_sell_actual.append('sell')\n",
    "\n",
    "final['BuySell_actual'] = np.array(buy_sell_actual)\n",
    "final['BuySell_pred'] = np.array(buy_sell_pred)\n",
    "\n",
    "final['BuySell_diff'] = final['BuySell_actual'] == final['BuySell_pred']\n",
    "\n",
    "final = final[['Date', 'Predicted', 'Open', 'High', 'Low', 'Vol.', 'Change %', 'BuySell_pred']]\n",
    "final.rename(columns={'Predicted':'Price'}, inplace=True)\n",
    "final.rename(columns={'BuySell_pred':'BuySell'}, inplace=True)"
   ]
  }
 ],
 "metadata": {
  "kernelspec": {
   "display_name": "base",
   "language": "python",
   "name": "python3"
  },
  "language_info": {
   "codemirror_mode": {
    "name": "ipython",
    "version": 3
   },
   "file_extension": ".py",
   "mimetype": "text/x-python",
   "name": "python",
   "nbconvert_exporter": "python",
   "pygments_lexer": "ipython3",
   "version": "3.9.12"
  }
 },
 "nbformat": 4,
 "nbformat_minor": 2
}

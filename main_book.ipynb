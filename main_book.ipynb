{
 "cells": [
  {
   "cell_type": "code",
   "execution_count": 63,
   "metadata": {},
   "outputs": [],
   "source": [
    "import numpy as np\n",
    "import pandas as pd\n",
    "import statsmodels.api as sm \n",
    "import matplotlib.pyplot as plt\n",
    "from sklearn.metrics import r2_score\n",
    "from sklearn.linear_model import LinearRegression\n",
    "from sklearn.model_selection import train_test_split\n",
    "\n",
    "# importing data set\n",
    "df = pd.read_csv('Bitcoin Historical Data.csv')\n",
    "\n",
    "# fixing dataset so that it can be interpreted by the model\n",
    "df['Price'] = df['Price'].str.replace(',','')\n",
    "df['Open'] = df['Open'].str.replace(',','')\n",
    "df['High'] = df['High'].str.replace(',','')\n",
    "df['Low'] = df['Low'].str.replace(',','')\n",
    "\n",
    "df['Price'] = df['Price'].astype(float)\n",
    "df['Open'] = df['Open'].astype(float)\n",
    "df['High'] = df['High'].astype(float)\n",
    "df['Low'] = df['Low'].astype(float)\n",
    "\n",
    "df['Vol.'] = df['Vol.'].str.replace(',','')\n",
    "df['Vol.'] = df['Vol.'].str.replace('K','')\n",
    "df['Vol.'] = df['Vol.'].str.replace('M','')\n",
    "df['Vol.'] = df['Vol.'].str.replace('B','')\n",
    "df['Vol.'] = df['Vol.'].astype(float)\n",
    "df['Vol.'] = df['Vol.'] * 1000\n",
    "\n",
    "df['Fake_Index'] = np.array([i for i in range(0,len(df))])\n"
   ]
  },
  {
   "cell_type": "code",
   "execution_count": null,
   "metadata": {},
   "outputs": [
    {
     "data": {
      "text/plain": [
       "[<matplotlib.lines.Line2D at 0x7fa54d747160>]"
      ]
     },
     "execution_count": 11,
     "metadata": {},
     "output_type": "execute_result"
    },
    {
     "data": {
      "image/png": "[encoded data removed]",
      "text/plain": [
       "<Figure size 432x288 with 1 Axes>"
      ]
     },
     "metadata": {
      "needs_background": "light"
     },
     "output_type": "display_data"
    }
   ],
   "source": [
    "plt.plot(df['Date'].iloc[1:500], df['Open'].iloc[1:500]) ## shows a seemingly linear growth over time"
   ]
  },
  {
   "cell_type": "markdown",
   "metadata": {},
   "source": [
    "### **modeling with only two variables**"
   ]
  },
  {
   "cell_type": "code",
   "execution_count": 112,
   "metadata": {},
   "outputs": [
    {
     "name": "stdout",
     "output_type": "stream",
     "text": [
      "0.9978615425277159\n"
     ]
    }
   ],
   "source": [
    "X = df[['Fake_Index', 'Open', 'Vol.']] # features (for now)\n",
    "y = df['Price'] # target\n",
    "\n",
    "X_train, X_test, y_train, y_test = train_test_split(X, y, random_state=100, test_size=0.30)\n",
    "\n",
    "model = LinearRegression() # linearity of dataset made it pretty easy to use a linear model to predict the prices just based on the opening and volume that day\n",
    "model.fit(X_train, y_train)\n",
    "\n",
    "y_pred = model.predict(X_test)\n",
    "print(r2_score(y_test, y_pred))"
   ]
  },
  {
   "cell_type": "code",
   "execution_count": 113,
   "metadata": {},
   "outputs": [],
   "source": [
    "y_pred = pd.Series(y_pred)\n",
    "y_test = pd.Series(y_test)\n",
    "\n",
    "train_data = pd.concat([X_train,y_train], axis=1)\n",
    "\n",
    "orig_index = y_test.index.to_list()\n",
    "y_test.reset_index(drop=True, inplace=True)\n",
    "\n",
    "results = pd.concat([y_pred,y_test], axis=1, ignore_index=True)\n",
    "results['Index'] = orig_index\n",
    "results.set_index('Index', inplace=True)\n",
    "\n",
    "results_new = pd.concat([results,X_test], axis=1)\n",
    "\n",
    "final = pd.merge(results_new, df['Date'], left_index=True, right_index=True, how='inner')"
   ]
  }
 ],
 "metadata": {
  "kernelspec": {
   "display_name": "base",
   "language": "python",
   "name": "python3"
  },
  "language_info": {
   "codemirror_mode": {
    "name": "ipython",
    "version": 3
   },
   "file_extension": ".py",
   "mimetype": "text/x-python",
   "name": "python",
   "nbconvert_exporter": "python",
   "pygments_lexer": "ipython3",
   "version": "3.9.12"
  }
 },
 "nbformat": 4,
 "nbformat_minor": 2
}

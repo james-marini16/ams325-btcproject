{
 "cells": [
  {
   "cell_type": "markdown",
   "metadata": {},
   "source": [
    "### **Inputs**"
   ]
  },
  {
   "cell_type": "code",
   "execution_count": 1,
   "metadata": {},
   "outputs": [],
   "source": [
    "BuyDip = -200 #float(input(\"Sell if % Decrease Over(negative decimal input): \"))\n",
    "SellProfit = 200 #float(input(\"Sell if % Increase Over(decimal input): \"))\n",
    "BuyChange = float(input(\"Buy if % Decrease Over(negative decimal input): \"))\n",
    "SellChange = float(input(\"Sell if % Increase Over(decimal input): \"))\n",
    "days = int(input(\"Days to take avg over: \"))"
   ]
  },
  {
   "cell_type": "markdown",
   "metadata": {},
   "source": [
    "### **data organization and initial analysis**"
   ]
  },
  {
   "cell_type": "code",
   "execution_count": 2,
   "metadata": {},
   "outputs": [
    {
     "name": "stderr",
     "output_type": "stream",
     "text": [
      "/Users/jamesmarini/opt/anaconda3/lib/python3.9/site-packages/scipy/__init__.py:146: UserWarning: A NumPy version >=1.16.5 and <1.23.0 is required for this version of SciPy (detected version 1.26.4\n",
      "  warnings.warn(f\"A NumPy version >={np_minversion} and <{np_maxversion}\"\n"
     ]
    }
   ],
   "source": [
    "import numpy as np\n",
    "import pandas as pd\n",
    "import statsmodels.api as sm \n",
    "import matplotlib.pyplot as plt\n",
    "from sklearn.metrics import r2_score\n",
    "from sklearn.linear_model import LinearRegression\n",
    "from sklearn.model_selection import train_test_split\n",
    "\n",
    "# importing data set\n",
    "df = pd.read_csv('Bitcoin Historical Data.csv')\n",
    "\n",
    "# fixing dataset so that it can be interpreted by the model\n",
    "df['Price'] = df['Price'].str.replace(',','')\n",
    "df['Open'] = df['Open'].str.replace(',','')\n",
    "df['High'] = df['High'].str.replace(',','')\n",
    "df['Low'] = df['Low'].str.replace(',','')\n",
    "df['Change %'] = df['Change %'].str.replace('%', '')\n",
    "\n",
    "df['Price'] = df['Price'].astype(float)\n",
    "df['Open'] = df['Open'].astype(float)\n",
    "df['High'] = df['High'].astype(float)\n",
    "df['Low'] = df['Low'].astype(float)\n",
    "df['Change %'] = df['Change %'].astype(float)\n",
    "\n",
    "df['Vol.'] = df['Vol.'].str.replace(',','')\n",
    "df['Vol.'] = df['Vol.'].str.replace('K','')\n",
    "df['Vol.'] = df['Vol.'].str.replace('M','')\n",
    "df['Vol.'] = df['Vol.'].str.replace('B','')\n",
    "df['Vol.'] = df['Vol.'].astype(float)\n",
    "df['Vol.'] = df['Vol.'] * 1000\n",
    "\n",
    "df['Date'] = pd.to_datetime(df['Date'])\n",
    "df = df.sort_values('Date')\n",
    "\n",
    "df = df.reset_index(drop=True)\n",
    "\n",
    "df['Fake_Index'] = np.array([i for i in range(0,len(df))])\n",
    "\n",
    "df['Change %'] = df['Change %'] / 100\n",
    "\n",
    "#df['Fake_Index'] = np.array([i for i in range(5,len(df))])\n",
    "#calculate 5-day moving avg\n",
    "df['MAD'] = df['Price'].rolling(window=days).mean()\n",
    "\n",
    "buy_sell = []\n",
    "position = 0\n",
    "\n",
    "for i in range(len(df)):\n",
    "    if i < days-1:\n",
    "        # For the first few rows where SMA is not available\n",
    "        buy_sell.append('Pass')\n",
    "        df.loc[i, 'MAD'] = 0\n",
    "        continue\n",
    "        \n",
    "#Make sure the buy fits within the 5-day moving avg\n",
    "for i in range(days-1, len(df)):\n",
    "    price = df.loc[i, 'Price']\n",
    "    sma5 = df.loc[i, 'MAD']\n",
    "\n",
    "    avg = ((price - sma5)/sma5)\n",
    "\n",
    "    if pd.isna(sma5):\n",
    "        buy_sell.append('Pass')\n",
    "        continue\n",
    "        \n",
    "    # logic to determine whether a user should have bought or sold on this given day, originally derived later in code\n",
    "    if position == 0 and (avg < BuyChange):\n",
    "        position = 1 # Buy Bitcoin\n",
    "        #print((price - sma5)/sma5)\n",
    "        buy_sell.append(('Buy'))\n",
    "    elif position > 0 and (avg > SellChange):  \n",
    "        position = 0 # Sell Bitcoin\n",
    "        #print((price - sma5)/sma5)\n",
    "        buy_sell.append(('Sell'))\n",
    "    else:\n",
    "        buy_sell.append('Pass') #hold do nothing\n",
    "\n",
    "df['BuySell'] = buy_sell\n",
    "df = df[['Fake_Index', 'Date', 'Open', 'High', 'Low', 'Vol.', 'MAD', 'Price', 'BuySell']]"
   ]
  },
  {
   "cell_type": "code",
   "execution_count": 8,
   "metadata": {},
   "outputs": [
    {
     "data": {
      "text/plain": [
       "Text(0.5, 1.0, 'BTC Price vs Time')"
      ]
     },
     "execution_count": 8,
     "metadata": {},
     "output_type": "execute_result"
    },
    {
     "data": {
      "image/png": "[encoded data removed]",
      "text/plain": [
       "<Figure size 432x288 with 1 Axes>"
      ]
     },
     "metadata": {
      "needs_background": "light"
     },
     "output_type": "display_data"
    }
   ],
   "source": [
    "plt.plot(df['Date'], df['Price'])\n",
    "plt.title('BTC Price vs Time')"
   ]
  },
  {
   "cell_type": "markdown",
   "metadata": {},
   "source": [
    "### **modeling**"
   ]
  },
  {
   "cell_type": "code",
   "execution_count": 3,
   "metadata": {},
   "outputs": [
    {
     "name": "stdout",
     "output_type": "stream",
     "text": [
      "0.9995677177365714\n"
     ]
    }
   ],
   "source": [
    "X = df[['Fake_Index', 'Open', 'High', 'Low', 'Vol.', 'MAD']] # features (can be changed, r^2 doesn't change much though)\n",
    "y = df['Price'] # target\n",
    "\n",
    "X_train, X_test, y_train, y_test = train_test_split(X, y, random_state=100, test_size=0.50)\n",
    "\n",
    "model = LinearRegression() # linearity of dataset made it pretty easy to use a linear model to predict the prices just based on the opening and volume that day\n",
    "model.fit(X_train, y_train)\n",
    "\n",
    "y_pred = model.predict(X_test)\n",
    "print(r2_score(y_test, y_pred))"
   ]
  },
  {
   "cell_type": "code",
   "execution_count": 4,
   "metadata": {},
   "outputs": [],
   "source": [
    "y_pred = pd.Series(y_pred)\n",
    "y_test = pd.Series(y_test)\n",
    "\n",
    "train_data = pd.concat([X_train,y_train], axis=1)\n",
    "train_data.drop(columns='Fake_Index', inplace=True)\n",
    "\n",
    "orig_index = y_test.index.to_list()\n",
    "y_test.reset_index(drop=True, inplace=True)\n",
    "\n",
    "results = pd.concat([y_pred,y_test], axis=1, ignore_index=True)\n",
    "results['Index'] = orig_index\n",
    "results.set_index('Index', inplace=True)\n",
    "\n",
    "results_new = pd.concat([results,X_test], axis=1)\n",
    "results_new.rename(columns={0:'Predicted'}, inplace=True)\n",
    "results_new.rename(columns={1:'Actual'}, inplace=True)\n",
    "\n",
    "final = pd.merge(results_new, df['Date'], left_index=True, right_index=True, how='inner')\n",
    "final.drop(columns='Fake_Index', inplace=True)\n",
    "\n",
    "final = final.sort_values('Date')\n",
    "final = final.reset_index(drop=True)"
   ]
  },
  {
   "cell_type": "markdown",
   "metadata": {},
   "source": [
    "### **logic to determine whether to buy or sell for new predicted prices**"
   ]
  },
  {
   "cell_type": "code",
   "execution_count": 5,
   "metadata": {},
   "outputs": [],
   "source": [
    "buy_sell_actual = []\n",
    "final.rename(columns={'Predicted':'Price'}, inplace=True)\n",
    "\n",
    "\n",
    "for i in range(len(final)):\n",
    "    if i < days-1:\n",
    "        # For the first few rows where SMA is not available\n",
    "        buy_sell_actual.append('Pass')\n",
    "        continue\n",
    "        \n",
    "#Make sure the buy fits within the 5-day moving avg\n",
    "for i in range(days-1, len(final)):\n",
    "    price = final.loc[i, 'Price']\n",
    "    sma5 = final.loc[i, 'MAD']\n",
    "\n",
    "    if sma5 == 0:\n",
    "        buy_sell_actual.append('Pass')\n",
    "        continue\n",
    "        \n",
    "    # logic to determine whether a user should have bought or sold on this given day, originally derived later in code\n",
    "    if position == 0 and (((price - sma5) / sma5) <= BuyChange):\n",
    "        position = 1 # Buy Bitcoin\n",
    "        buy_sell_actual.append('Buy')\n",
    "    elif position == 0 and (((price - sma5) / sma5) <= BuyChange):\n",
    "        position = 1 # Buy Bitcoin\n",
    "        buy_sell_actual.append('Buy')\n",
    "    elif position > 0 and (((price - sma5) / sma5) >= SellChange):  \n",
    "        position = 0 # Sell Bitcoin\n",
    "        buy_sell_actual.append('Sell')\n",
    "    else:\n",
    "        buy_sell_actual.append('Pass') #hold do nothing\n",
    "        \n",
    "#for i in range(len(final)):\n",
    "    #if (final['Predicted'].iloc[i] > final['Open'].iloc[i]) and (abs(final['Predicted'].iloc[i] - final['Open'].iloc[i]) / final['Open'].iloc[i] > SellChange):\n",
    "        #buy_sell_pred.append('sell')\n",
    "    #else:\n",
    "       # buy_sell_pred.append('buy')\n",
    "    \n",
    "    #if final['Actual'].iloc[i] > final['Open'].iloc[i] and (abs(final['Predicted'].iloc[i] - final['Open'].iloc[i]) / final['Open'].iloc[i] > SellChange):\n",
    "       # buy_sell_actual.append('sell')\n",
    "    #else:\n",
    "        #buy_sell_actual.append('buy')\n",
    "final['BuySell'] = buy_sell_actual\n",
    "\n",
    "final = final[['Date', 'Open', 'High', 'Low', 'Vol.', 'MAD', 'Price', 'BuySell']]\n",
    "df.drop(columns=['Fake_Index'], inplace=True)\n",
    "\n",
    "df = df[~df['Date'].isin(final['Date'])].reset_index(drop=True)\n",
    "\n",
    "#final.rename(columns={'BuySell_actual':'BuySell'}, inplace=True)\n"
   ]
  },
  {
   "cell_type": "markdown",
   "metadata": {},
   "source": [
    "### **Data Organization**"
   ]
  },
  {
   "cell_type": "code",
   "execution_count": 6,
   "metadata": {},
   "outputs": [],
   "source": [
    "actual_advice = df\n",
    "predicted_buy_sell_advice = final\n",
    "final.to_csv(\"main_data.csv\", index = False)\n",
    "df.to_csv(\"test_data.csv\", index = False)"
   ]
  }
 ],
 "metadata": {
  "kernelspec": {
   "display_name": "base",
   "language": "python",
   "name": "python3"
  },
  "language_info": {
   "codemirror_mode": {
    "name": "ipython",
    "version": 3
   },
   "file_extension": ".py",
   "mimetype": "text/x-python",
   "name": "python",
   "nbconvert_exporter": "python",
   "pygments_lexer": "ipython3",
   "version": "3.9.12"
  }
 },
 "nbformat": 4,
 "nbformat_minor": 4
}
